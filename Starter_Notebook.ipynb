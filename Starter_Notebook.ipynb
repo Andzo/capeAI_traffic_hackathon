{
  "nbformat": 4,
  "nbformat_minor": 0,
  "metadata": {
    "colab": {
      "name": "Starter_Notebook.ipynb",
      "provenance": [],
      "toc_visible": true,
      "machine_shape": "hm",
      "include_colab_link": true
    },
    "kernelspec": {
      "name": "python3",
      "display_name": "Python 3"
    },
    "language_info": {
      "codemirror_mode": {
        "name": "ipython",
        "version": 3
      },
      "file_extension": ".py",
      "mimetype": "text/x-python",
      "name": "python",
      "nbconvert_exporter": "python",
      "pygments_lexer": "ipython3",
      "version": "3.7.1"
    },
    "accelerator": "GPU"
  },
  "cells": [
    {
      "cell_type": "markdown",
      "metadata": {
        "id": "view-in-github",
        "colab_type": "text"
      },
      "source": [
        "<a href=\"https://colab.research.google.com/github/Andzo/sendy_logistics_challenge/blob/master/Starter_Notebook.ipynb\" target=\"_parent\"><img src=\"https://colab.research.google.com/assets/colab-badge.svg\" alt=\"Open In Colab\"/></a>"
      ]
    },
    {
      "cell_type": "markdown",
      "metadata": {
        "colab_type": "text",
        "id": "MTz_8ZFaygpv"
      },
      "source": [
        "# Welcome to the CapeAI hackathon. "
      ]
    },
    {
      "cell_type": "code",
      "metadata": {
        "id": "UoQdWYWAisH3",
        "colab_type": "code",
        "outputId": "b62bb0fa-df37-4ef1-a345-87cb9fafdc76",
        "colab": {
          "base_uri": "https://localhost:8080/",
          "height": 124
        }
      },
      "source": [
        "from google.colab import drive\n",
        "drive.mount('/content/gdrive/')"
      ],
      "execution_count": 1,
      "outputs": [
        {
          "output_type": "stream",
          "text": [
            "Go to this URL in a browser: https://accounts.google.com/o/oauth2/auth?client_id=947318989803-6bn6qk8qdgf4n4g3pfee6491hc0brc4i.apps.googleusercontent.com&redirect_uri=urn%3aietf%3awg%3aoauth%3a2.0%3aoob&response_type=code&scope=email%20https%3a%2f%2fwww.googleapis.com%2fauth%2fdocs.test%20https%3a%2f%2fwww.googleapis.com%2fauth%2fdrive%20https%3a%2f%2fwww.googleapis.com%2fauth%2fdrive.photos.readonly%20https%3a%2f%2fwww.googleapis.com%2fauth%2fpeopleapi.readonly\n",
            "\n",
            "Enter your authorization code:\n",
            "··········\n",
            "Mounted at /content/gdrive/\n"
          ],
          "name": "stdout"
        }
      ]
    },
    {
      "cell_type": "code",
      "metadata": {
        "id": "_ltO8GajigaB",
        "colab_type": "code",
        "outputId": "aed26ccc-b64a-4690-87fc-e3a01131ed39",
        "colab": {
          "base_uri": "https://localhost:8080/",
          "height": 624
        }
      },
      "source": [
        "%%html\n",
        "\n",
        "<img src=\"https://media-exp1.licdn.com/dms/image/C4E1BAQHDfu7A5R2xMg/company-background_10000/0?e=2159024400&v=beta&t=wVPYGxoPMW6rZ8VoNasiXK4ZFp6_qtDtcs2XDIyCIeo\", width=900,height=500>"
      ],
      "execution_count": 2,
      "outputs": [
        {
          "output_type": "display_data",
          "data": {
            "text/html": [
              "\n",
              "<img src=\"https://media-exp1.licdn.com/dms/image/C4E1BAQHDfu7A5R2xMg/company-background_10000/0?e=2159024400&v=beta&t=wVPYGxoPMW6rZ8VoNasiXK4ZFp6_qtDtcs2XDIyCIeo\", width=900,height=500>"
            ],
            "text/plain": [
              "<IPython.core.display.HTML object>"
            ]
          },
          "metadata": {
            "tags": []
          }
        }
      ]
    },
    {
      "cell_type": "markdown",
      "metadata": {
        "id": "bl6e5ps8igaV",
        "colab_type": "text"
      },
      "source": [
        "# The Objective of this Challenge is to build a machine learning model that accurately predicts WHEN and WHERE the road incident will occur in Cape Town.\n",
        "\n",
        "### You will build your models on historic road incident data as well as traffic pattern data from Uber, Sanral and other external sources.\n",
        "\n",
        "\n",
        "## The resulting model will enable South African authorities to anticipate where they will be needed next and to put measures in place that will help ensure the safety of all Cape Town’s residents."
      ]
    },
    {
      "cell_type": "markdown",
      "metadata": {
        "id": "AqlI6r_bigaY",
        "colab_type": "text"
      },
      "source": [
        "## There is all sorts of ways you can improve on the model shown here - the object is for this to be a starting point for anyone feeling like they don't know where to begin!"
      ]
    },
    {
      "cell_type": "markdown",
      "metadata": {
        "colab_type": "text",
        "id": "E3IqqXbhygpx"
      },
      "source": [
        "### Loading the data"
      ]
    },
    {
      "cell_type": "code",
      "metadata": {
        "colab_type": "code",
        "id": "WIaLGweqygpy",
        "colab": {}
      },
      "source": [
        "import pandas as pd\n",
        "import numpy as np\n",
        "from matplotlib import pyplot as plt"
      ],
      "execution_count": 0,
      "outputs": []
    },
    {
      "cell_type": "code",
      "metadata": {
        "id": "b5zGRVSPigar",
        "colab_type": "code",
        "outputId": "1b7156f3-9377-4f49-b9ce-a04995f22cb7",
        "colab": {
          "base_uri": "https://localhost:8080/",
          "height": 394
        }
      },
      "source": [
        "# I tend to first try to understand what the columns mean in the dataset.\n",
        "\n",
        "variable_definitions = pd.read_csv(\"gdrive/My Drive/Zindi_Uber_hackathon/datasets/train_VariableDefinitions.csv\")\n",
        "\n",
        "variable_definitions # show all rows"
      ],
      "execution_count": 4,
      "outputs": [
        {
          "output_type": "execute_result",
          "data": {
            "text/html": [
              "<div>\n",
              "<style scoped>\n",
              "    .dataframe tbody tr th:only-of-type {\n",
              "        vertical-align: middle;\n",
              "    }\n",
              "\n",
              "    .dataframe tbody tr th {\n",
              "        vertical-align: top;\n",
              "    }\n",
              "\n",
              "    .dataframe thead th {\n",
              "        text-align: right;\n",
              "    }\n",
              "</style>\n",
              "<table border=\"1\" class=\"dataframe\">\n",
              "  <thead>\n",
              "    <tr style=\"text-align: right;\">\n",
              "      <th></th>\n",
              "      <th>Variable name</th>\n",
              "      <th>Unnamed: 1</th>\n",
              "    </tr>\n",
              "  </thead>\n",
              "  <tbody>\n",
              "    <tr>\n",
              "      <th>0</th>\n",
              "      <td>EventId</td>\n",
              "      <td>Unique ID of the incident</td>\n",
              "    </tr>\n",
              "    <tr>\n",
              "      <th>1</th>\n",
              "      <td>Occurrence Local Date Time</td>\n",
              "      <td>Time incident occurred, Central African Time.</td>\n",
              "    </tr>\n",
              "    <tr>\n",
              "      <th>2</th>\n",
              "      <td>Reporting Agency</td>\n",
              "      <td>How was the incident reported or recognised</td>\n",
              "    </tr>\n",
              "    <tr>\n",
              "      <th>3</th>\n",
              "      <td>Cause</td>\n",
              "      <td>Incident type</td>\n",
              "    </tr>\n",
              "    <tr>\n",
              "      <th>4</th>\n",
              "      <td>Subcause</td>\n",
              "      <td>More information about the cause</td>\n",
              "    </tr>\n",
              "    <tr>\n",
              "      <th>5</th>\n",
              "      <td>Status</td>\n",
              "      <td>Closed or open</td>\n",
              "    </tr>\n",
              "    <tr>\n",
              "      <th>6</th>\n",
              "      <td>longitude</td>\n",
              "      <td>Lon and lat of the incident</td>\n",
              "    </tr>\n",
              "    <tr>\n",
              "      <th>7</th>\n",
              "      <td>latitude</td>\n",
              "      <td>NaN</td>\n",
              "    </tr>\n",
              "    <tr>\n",
              "      <th>8</th>\n",
              "      <td>road_segment_id</td>\n",
              "      <td>Segment of the road where the incident took pl...</td>\n",
              "    </tr>\n",
              "    <tr>\n",
              "      <th>9</th>\n",
              "      <td>isAccident</td>\n",
              "      <td>True or False</td>\n",
              "    </tr>\n",
              "    <tr>\n",
              "      <th>10</th>\n",
              "      <td>isPedestrian</td>\n",
              "      <td>True or False</td>\n",
              "    </tr>\n",
              "  </tbody>\n",
              "</table>\n",
              "</div>"
            ],
            "text/plain": [
              "                 Variable name                                         Unnamed: 1\n",
              "0                      EventId                          Unique ID of the incident\n",
              "1   Occurrence Local Date Time     Time incident occurred, Central African Time. \n",
              "2             Reporting Agency        How was the incident reported or recognised\n",
              "3                        Cause                                      Incident type\n",
              "4                     Subcause                   More information about the cause\n",
              "5                       Status                                     Closed or open\n",
              "6                    longitude                        Lon and lat of the incident\n",
              "7                     latitude                                                NaN\n",
              "8              road_segment_id  Segment of the road where the incident took pl...\n",
              "9                   isAccident                                      True or False\n",
              "10                isPedestrian                                      True or False"
            ]
          },
          "metadata": {
            "tags": []
          },
          "execution_count": 4
        }
      ]
    },
    {
      "cell_type": "code",
      "metadata": {
        "id": "iLMFDvPAiga1",
        "colab_type": "code",
        "outputId": "ebed6d69-2617-40f4-db54-c0aee13d16fc",
        "colab": {
          "base_uri": "https://localhost:8080/",
          "height": 34
        }
      },
      "source": [
        "!dir"
      ],
      "execution_count": 5,
      "outputs": [
        {
          "output_type": "stream",
          "text": [
            "gdrive\tsample_data\n"
          ],
          "name": "stdout"
        }
      ]
    },
    {
      "cell_type": "code",
      "metadata": {
        "colab_type": "code",
        "id": "aTEnfcSwygp4",
        "outputId": "78281419-9c85-4f84-af2b-becd130cfa28",
        "colab": {
          "base_uri": "https://localhost:8080/",
          "height": 206
        }
      },
      "source": [
        "# We'll generate this later, so don't download it if you're in a hurry\n",
        "sample_sub = pd.read_csv('gdrive/My Drive/Zindi_Uber_hackathon/datasets/SampleSubmission.csv');sample_sub.head()"
      ],
      "execution_count": 6,
      "outputs": [
        {
          "output_type": "execute_result",
          "data": {
            "text/html": [
              "<div>\n",
              "<style scoped>\n",
              "    .dataframe tbody tr th:only-of-type {\n",
              "        vertical-align: middle;\n",
              "    }\n",
              "\n",
              "    .dataframe tbody tr th {\n",
              "        vertical-align: top;\n",
              "    }\n",
              "\n",
              "    .dataframe thead th {\n",
              "        text-align: right;\n",
              "    }\n",
              "</style>\n",
              "<table border=\"1\" class=\"dataframe\">\n",
              "  <thead>\n",
              "    <tr style=\"text-align: right;\">\n",
              "      <th></th>\n",
              "      <th>datetime x segment_id</th>\n",
              "      <th>prediction</th>\n",
              "    </tr>\n",
              "  </thead>\n",
              "  <tbody>\n",
              "    <tr>\n",
              "      <th>0</th>\n",
              "      <td>2019-01-01 01:00:00 x S0B3CGQ</td>\n",
              "      <td>NaN</td>\n",
              "    </tr>\n",
              "    <tr>\n",
              "      <th>1</th>\n",
              "      <td>2019-01-01 01:00:00 x RYJYAPI</td>\n",
              "      <td>NaN</td>\n",
              "    </tr>\n",
              "    <tr>\n",
              "      <th>2</th>\n",
              "      <td>2019-01-01 01:00:00 x U3KP57C</td>\n",
              "      <td>NaN</td>\n",
              "    </tr>\n",
              "    <tr>\n",
              "      <th>3</th>\n",
              "      <td>2019-01-01 01:00:00 x RY0TRQ8</td>\n",
              "      <td>NaN</td>\n",
              "    </tr>\n",
              "    <tr>\n",
              "      <th>4</th>\n",
              "      <td>2019-01-01 01:00:00 x 8LOVJZ3</td>\n",
              "      <td>NaN</td>\n",
              "    </tr>\n",
              "  </tbody>\n",
              "</table>\n",
              "</div>"
            ],
            "text/plain": [
              "           datetime x segment_id  prediction\n",
              "0  2019-01-01 01:00:00 x S0B3CGQ         NaN\n",
              "1  2019-01-01 01:00:00 x RYJYAPI         NaN\n",
              "2  2019-01-01 01:00:00 x U3KP57C         NaN\n",
              "3  2019-01-01 01:00:00 x RY0TRQ8         NaN\n",
              "4  2019-01-01 01:00:00 x 8LOVJZ3         NaN"
            ]
          },
          "metadata": {
            "tags": []
          },
          "execution_count": 6
        }
      ]
    },
    {
      "cell_type": "code",
      "metadata": {
        "id": "lGXITi59igbI",
        "colab_type": "code",
        "outputId": "d37fbadb-5831-40c2-d388-09495ef7613a",
        "colab": {
          "base_uri": "https://localhost:8080/",
          "height": 206
        }
      },
      "source": [
        "read = pd.read_csv(\"gdrive/My Drive/Zindi_Uber_hackathon/datasets/train_VariableDefinitions.csv\")\n",
        "\n",
        "read.head()"
      ],
      "execution_count": 7,
      "outputs": [
        {
          "output_type": "execute_result",
          "data": {
            "text/html": [
              "<div>\n",
              "<style scoped>\n",
              "    .dataframe tbody tr th:only-of-type {\n",
              "        vertical-align: middle;\n",
              "    }\n",
              "\n",
              "    .dataframe tbody tr th {\n",
              "        vertical-align: top;\n",
              "    }\n",
              "\n",
              "    .dataframe thead th {\n",
              "        text-align: right;\n",
              "    }\n",
              "</style>\n",
              "<table border=\"1\" class=\"dataframe\">\n",
              "  <thead>\n",
              "    <tr style=\"text-align: right;\">\n",
              "      <th></th>\n",
              "      <th>Variable name</th>\n",
              "      <th>Unnamed: 1</th>\n",
              "    </tr>\n",
              "  </thead>\n",
              "  <tbody>\n",
              "    <tr>\n",
              "      <th>0</th>\n",
              "      <td>EventId</td>\n",
              "      <td>Unique ID of the incident</td>\n",
              "    </tr>\n",
              "    <tr>\n",
              "      <th>1</th>\n",
              "      <td>Occurrence Local Date Time</td>\n",
              "      <td>Time incident occurred, Central African Time.</td>\n",
              "    </tr>\n",
              "    <tr>\n",
              "      <th>2</th>\n",
              "      <td>Reporting Agency</td>\n",
              "      <td>How was the incident reported or recognised</td>\n",
              "    </tr>\n",
              "    <tr>\n",
              "      <th>3</th>\n",
              "      <td>Cause</td>\n",
              "      <td>Incident type</td>\n",
              "    </tr>\n",
              "    <tr>\n",
              "      <th>4</th>\n",
              "      <td>Subcause</td>\n",
              "      <td>More information about the cause</td>\n",
              "    </tr>\n",
              "  </tbody>\n",
              "</table>\n",
              "</div>"
            ],
            "text/plain": [
              "                Variable name                                      Unnamed: 1\n",
              "0                     EventId                       Unique ID of the incident\n",
              "1  Occurrence Local Date Time  Time incident occurred, Central African Time. \n",
              "2            Reporting Agency     How was the incident reported or recognised\n",
              "3                       Cause                                   Incident type\n",
              "4                    Subcause                More information about the cause"
            ]
          },
          "metadata": {
            "tags": []
          },
          "execution_count": 7
        }
      ]
    },
    {
      "cell_type": "code",
      "metadata": {
        "colab_type": "code",
        "id": "F7CulRNdygp_",
        "outputId": "f671b23e-772b-4298-acab-5aa7766fef32",
        "colab": {
          "base_uri": "https://localhost:8080/",
          "height": 260
        }
      },
      "source": [
        "# Make sure train is in the folder where this notebook is running\n",
        "data = pd.read_csv('gdrive/My Drive/Zindi_Uber_hackathon/datasets/train.csv', \n",
        "                   parse_dates = ['Occurrence Local Date Time'])\n",
        "data.info()"
      ],
      "execution_count": 8,
      "outputs": [
        {
          "output_type": "stream",
          "text": [
            "<class 'pandas.core.frame.DataFrame'>\n",
            "RangeIndex: 53845 entries, 0 to 53844\n",
            "Data columns (total 9 columns):\n",
            "EventId                       53845 non-null int64\n",
            "Occurrence Local Date Time    53845 non-null datetime64[ns]\n",
            "Reporting Agency              52226 non-null object\n",
            "Cause                         53845 non-null object\n",
            "Subcause                      53845 non-null object\n",
            "Status                        53845 non-null object\n",
            "longitude                     53845 non-null object\n",
            "latitude                      53845 non-null float64\n",
            "road_segment_id               53845 non-null object\n",
            "dtypes: datetime64[ns](1), float64(1), int64(1), object(6)\n",
            "memory usage: 3.7+ MB\n"
          ],
          "name": "stdout"
        }
      ]
    },
    {
      "cell_type": "code",
      "metadata": {
        "id": "hvWQnCy9igbb",
        "colab_type": "code",
        "outputId": "66714eba-36cc-41aa-a1f6-32289a49f37a",
        "colab": {
          "base_uri": "https://localhost:8080/",
          "height": 260
        }
      },
      "source": [
        "data[\"longitude\"] = pd.to_numeric(data[\"longitude\"],errors=\"coerce\")\n",
        "\n",
        "data.info()"
      ],
      "execution_count": 9,
      "outputs": [
        {
          "output_type": "stream",
          "text": [
            "<class 'pandas.core.frame.DataFrame'>\n",
            "RangeIndex: 53845 entries, 0 to 53844\n",
            "Data columns (total 9 columns):\n",
            "EventId                       53845 non-null int64\n",
            "Occurrence Local Date Time    53845 non-null datetime64[ns]\n",
            "Reporting Agency              52226 non-null object\n",
            "Cause                         53845 non-null object\n",
            "Subcause                      53845 non-null object\n",
            "Status                        53845 non-null object\n",
            "longitude                     53840 non-null float64\n",
            "latitude                      53845 non-null float64\n",
            "road_segment_id               53845 non-null object\n",
            "dtypes: datetime64[ns](1), float64(2), int64(1), object(5)\n",
            "memory usage: 3.7+ MB\n"
          ],
          "name": "stdout"
        }
      ]
    },
    {
      "cell_type": "code",
      "metadata": {
        "colab_type": "code",
        "id": "2JrRYZvcJSAA",
        "outputId": "a5a12732-9901-4d5d-be0e-63d33f65f2ab",
        "colab": {
          "base_uri": "https://localhost:8080/",
          "height": 34
        }
      },
      "source": [
        "data['road_segment_id'].unique().shape"
      ],
      "execution_count": 10,
      "outputs": [
        {
          "output_type": "execute_result",
          "data": {
            "text/plain": [
              "(549,)"
            ]
          },
          "metadata": {
            "tags": []
          },
          "execution_count": 10
        }
      ]
    },
    {
      "cell_type": "code",
      "metadata": {
        "id": "4Fp-0o9Nigbs",
        "colab_type": "code",
        "colab": {}
      },
      "source": [
        "# there is a dataset called road_segment.zip. It contains geospatial data \n",
        "#Geospatial Analysis allows us to create interactive maps, and discover patterns in geospatial data"
      ],
      "execution_count": 0,
      "outputs": []
    },
    {
      "cell_type": "markdown",
      "metadata": {
        "id": "SxJNl5atigb1",
        "colab_type": "text"
      },
      "source": [
        "There are many, many different geospatial file formats, such as shapefile, GeoJSON, KML, and GPKG. We won't discuss their differences in this, but it's important to mention that:\n",
        "\n",
        " * shapefile (shp) is the most common file type that you'll encounter, and\n",
        " * all of these file types can be quickly loaded with the gpd.read_file() function.\n",
        " \n",
        "This is will really help improve your model, if you play a bit around. I can send you some links on geopandas. Had some analysis done took it out because it would have made this easier for you! :("
      ]
    },
    {
      "cell_type": "code",
      "metadata": {
        "id": "BIRepH81j_Aa",
        "colab_type": "code",
        "outputId": "56d68bcb-b9d3-4265-9196-888cb3119f81",
        "colab": {
          "base_uri": "https://localhost:8080/",
          "height": 471
        }
      },
      "source": [
        "!pip install geopandas"
      ],
      "execution_count": 12,
      "outputs": [
        {
          "output_type": "stream",
          "text": [
            "Collecting geopandas\n",
            "\u001b[?25l  Downloading https://files.pythonhosted.org/packages/5b/0c/e6c99e561b03482220f00443f610ccf4dce9b50f4b1093d735f93c6fc8c6/geopandas-0.6.2-py2.py3-none-any.whl (919kB)\n",
            "\r\u001b[K     |▍                               | 10kB 7.9MB/s eta 0:00:01\r\u001b[K     |▊                               | 20kB 1.5MB/s eta 0:00:01\r\u001b[K     |█                               | 30kB 1.8MB/s eta 0:00:01\r\u001b[K     |█▍                              | 40kB 1.7MB/s eta 0:00:01\r\u001b[K     |█▉                              | 51kB 1.9MB/s eta 0:00:01\r\u001b[K     |██▏                             | 61kB 2.2MB/s eta 0:00:01\r\u001b[K     |██▌                             | 71kB 2.4MB/s eta 0:00:01\r\u001b[K     |██▉                             | 81kB 2.3MB/s eta 0:00:01\r\u001b[K     |███▏                            | 92kB 2.5MB/s eta 0:00:01\r\u001b[K     |███▋                            | 102kB 2.6MB/s eta 0:00:01\r\u001b[K     |████                            | 112kB 2.6MB/s eta 0:00:01\r\u001b[K     |████▎                           | 122kB 2.6MB/s eta 0:00:01\r\u001b[K     |████▋                           | 133kB 2.6MB/s eta 0:00:01\r\u001b[K     |█████                           | 143kB 2.6MB/s eta 0:00:01\r\u001b[K     |█████▍                          | 153kB 2.6MB/s eta 0:00:01\r\u001b[K     |█████▊                          | 163kB 2.6MB/s eta 0:00:01\r\u001b[K     |██████                          | 174kB 2.6MB/s eta 0:00:01\r\u001b[K     |██████▍                         | 184kB 2.6MB/s eta 0:00:01\r\u001b[K     |██████▊                         | 194kB 2.6MB/s eta 0:00:01\r\u001b[K     |███████▏                        | 204kB 2.6MB/s eta 0:00:01\r\u001b[K     |███████▌                        | 215kB 2.6MB/s eta 0:00:01\r\u001b[K     |███████▉                        | 225kB 2.6MB/s eta 0:00:01\r\u001b[K     |████████▏                       | 235kB 2.6MB/s eta 0:00:01\r\u001b[K     |████████▌                       | 245kB 2.6MB/s eta 0:00:01\r\u001b[K     |█████████                       | 256kB 2.6MB/s eta 0:00:01\r\u001b[K     |█████████▎                      | 266kB 2.6MB/s eta 0:00:01\r\u001b[K     |█████████▋                      | 276kB 2.6MB/s eta 0:00:01\r\u001b[K     |██████████                      | 286kB 2.6MB/s eta 0:00:01\r\u001b[K     |██████████▎                     | 296kB 2.6MB/s eta 0:00:01\r\u001b[K     |██████████▊                     | 307kB 2.6MB/s eta 0:00:01\r\u001b[K     |███████████                     | 317kB 2.6MB/s eta 0:00:01\r\u001b[K     |███████████▍                    | 327kB 2.6MB/s eta 0:00:01\r\u001b[K     |███████████▊                    | 337kB 2.6MB/s eta 0:00:01\r\u001b[K     |████████████                    | 348kB 2.6MB/s eta 0:00:01\r\u001b[K     |████████████▌                   | 358kB 2.6MB/s eta 0:00:01\r\u001b[K     |████████████▉                   | 368kB 2.6MB/s eta 0:00:01\r\u001b[K     |█████████████▏                  | 378kB 2.6MB/s eta 0:00:01\r\u001b[K     |█████████████▌                  | 389kB 2.6MB/s eta 0:00:01\r\u001b[K     |██████████████                  | 399kB 2.6MB/s eta 0:00:01\r\u001b[K     |██████████████▎                 | 409kB 2.6MB/s eta 0:00:01\r\u001b[K     |██████████████▋                 | 419kB 2.6MB/s eta 0:00:01\r\u001b[K     |███████████████                 | 430kB 2.6MB/s eta 0:00:01\r\u001b[K     |███████████████▎                | 440kB 2.6MB/s eta 0:00:01\r\u001b[K     |███████████████▊                | 450kB 2.6MB/s eta 0:00:01\r\u001b[K     |████████████████                | 460kB 2.6MB/s eta 0:00:01\r\u001b[K     |████████████████▍               | 471kB 2.6MB/s eta 0:00:01\r\u001b[K     |████████████████▊               | 481kB 2.6MB/s eta 0:00:01\r\u001b[K     |█████████████████               | 491kB 2.6MB/s eta 0:00:01\r\u001b[K     |█████████████████▌              | 501kB 2.6MB/s eta 0:00:01\r\u001b[K     |█████████████████▉              | 512kB 2.6MB/s eta 0:00:01\r\u001b[K     |██████████████████▏             | 522kB 2.6MB/s eta 0:00:01\r\u001b[K     |██████████████████▌             | 532kB 2.6MB/s eta 0:00:01\r\u001b[K     |██████████████████▉             | 542kB 2.6MB/s eta 0:00:01\r\u001b[K     |███████████████████▎            | 552kB 2.6MB/s eta 0:00:01\r\u001b[K     |███████████████████▋            | 563kB 2.6MB/s eta 0:00:01\r\u001b[K     |████████████████████            | 573kB 2.6MB/s eta 0:00:01\r\u001b[K     |████████████████████▎           | 583kB 2.6MB/s eta 0:00:01\r\u001b[K     |████████████████████▋           | 593kB 2.6MB/s eta 0:00:01\r\u001b[K     |█████████████████████           | 604kB 2.6MB/s eta 0:00:01\r\u001b[K     |█████████████████████▍          | 614kB 2.6MB/s eta 0:00:01\r\u001b[K     |█████████████████████▊          | 624kB 2.6MB/s eta 0:00:01\r\u001b[K     |██████████████████████          | 634kB 2.6MB/s eta 0:00:01\r\u001b[K     |██████████████████████▍         | 645kB 2.6MB/s eta 0:00:01\r\u001b[K     |██████████████████████▉         | 655kB 2.6MB/s eta 0:00:01\r\u001b[K     |███████████████████████▏        | 665kB 2.6MB/s eta 0:00:01\r\u001b[K     |███████████████████████▌        | 675kB 2.6MB/s eta 0:00:01\r\u001b[K     |███████████████████████▉        | 686kB 2.6MB/s eta 0:00:01\r\u001b[K     |████████████████████████▏       | 696kB 2.6MB/s eta 0:00:01\r\u001b[K     |████████████████████████▋       | 706kB 2.6MB/s eta 0:00:01\r\u001b[K     |█████████████████████████       | 716kB 2.6MB/s eta 0:00:01\r\u001b[K     |█████████████████████████▎      | 727kB 2.6MB/s eta 0:00:01\r\u001b[K     |█████████████████████████▋      | 737kB 2.6MB/s eta 0:00:01\r\u001b[K     |██████████████████████████      | 747kB 2.6MB/s eta 0:00:01\r\u001b[K     |██████████████████████████▍     | 757kB 2.6MB/s eta 0:00:01\r\u001b[K     |██████████████████████████▊     | 768kB 2.6MB/s eta 0:00:01\r\u001b[K     |███████████████████████████     | 778kB 2.6MB/s eta 0:00:01\r\u001b[K     |███████████████████████████▍    | 788kB 2.6MB/s eta 0:00:01\r\u001b[K     |███████████████████████████▉    | 798kB 2.6MB/s eta 0:00:01\r\u001b[K     |████████████████████████████▏   | 808kB 2.6MB/s eta 0:00:01\r\u001b[K     |████████████████████████████▌   | 819kB 2.6MB/s eta 0:00:01\r\u001b[K     |████████████████████████████▉   | 829kB 2.6MB/s eta 0:00:01\r\u001b[K     |█████████████████████████████▏  | 839kB 2.6MB/s eta 0:00:01\r\u001b[K     |█████████████████████████████▋  | 849kB 2.6MB/s eta 0:00:01\r\u001b[K     |██████████████████████████████  | 860kB 2.6MB/s eta 0:00:01\r\u001b[K     |██████████████████████████████▎ | 870kB 2.6MB/s eta 0:00:01\r\u001b[K     |██████████████████████████████▋ | 880kB 2.6MB/s eta 0:00:01\r\u001b[K     |███████████████████████████████ | 890kB 2.6MB/s eta 0:00:01\r\u001b[K     |███████████████████████████████▍| 901kB 2.6MB/s eta 0:00:01\r\u001b[K     |███████████████████████████████▊| 911kB 2.6MB/s eta 0:00:01\r\u001b[K     |████████████████████████████████| 921kB 2.6MB/s \n",
            "\u001b[?25hRequirement already satisfied: pandas>=0.23.0 in /usr/local/lib/python3.6/dist-packages (from geopandas) (0.25.3)\n",
            "Collecting fiona\n",
            "\u001b[?25l  Downloading https://files.pythonhosted.org/packages/50/f7/9899f8a9a2e38601472fe1079ce5088f58833221c8b8507d8b5eafd5404a/Fiona-1.8.13-cp36-cp36m-manylinux1_x86_64.whl (11.8MB)\n",
            "\u001b[K     |████████████████████████████████| 11.8MB 18.6MB/s \n",
            "\u001b[?25hRequirement already satisfied: shapely in /usr/local/lib/python3.6/dist-packages (from geopandas) (1.7.0)\n",
            "Collecting pyproj\n",
            "\u001b[?25l  Downloading https://files.pythonhosted.org/packages/d6/70/eedc98cd52b86de24a1589c762612a98bea26cde649ffdd60c1db396cce8/pyproj-2.4.2.post1-cp36-cp36m-manylinux2010_x86_64.whl (10.1MB)\n",
            "\u001b[K     |████████████████████████████████| 10.1MB 68.0MB/s \n",
            "\u001b[?25hRequirement already satisfied: python-dateutil>=2.6.1 in /usr/local/lib/python3.6/dist-packages (from pandas>=0.23.0->geopandas) (2.6.1)\n",
            "Requirement already satisfied: pytz>=2017.2 in /usr/local/lib/python3.6/dist-packages (from pandas>=0.23.0->geopandas) (2018.9)\n",
            "Requirement already satisfied: numpy>=1.13.3 in /usr/local/lib/python3.6/dist-packages (from pandas>=0.23.0->geopandas) (1.17.5)\n",
            "Requirement already satisfied: six>=1.7 in /usr/local/lib/python3.6/dist-packages (from fiona->geopandas) (1.12.0)\n",
            "Requirement already satisfied: click<8,>=4.0 in /usr/local/lib/python3.6/dist-packages (from fiona->geopandas) (7.0)\n",
            "Requirement already satisfied: attrs>=17 in /usr/local/lib/python3.6/dist-packages (from fiona->geopandas) (19.3.0)\n",
            "Collecting click-plugins>=1.0\n",
            "  Downloading https://files.pythonhosted.org/packages/e9/da/824b92d9942f4e472702488857914bdd50f73021efea15b4cad9aca8ecef/click_plugins-1.1.1-py2.py3-none-any.whl\n",
            "Collecting munch\n",
            "  Downloading https://files.pythonhosted.org/packages/cc/ab/85d8da5c9a45e072301beb37ad7f833cd344e04c817d97e0cc75681d248f/munch-2.5.0-py2.py3-none-any.whl\n",
            "Collecting cligj>=0.5\n",
            "  Downloading https://files.pythonhosted.org/packages/e4/be/30a58b4b0733850280d01f8bd132591b4668ed5c7046761098d665ac2174/cligj-0.5.0-py3-none-any.whl\n",
            "Installing collected packages: click-plugins, munch, cligj, fiona, pyproj, geopandas\n",
            "Successfully installed click-plugins-1.1.1 cligj-0.5.0 fiona-1.8.13 geopandas-0.6.2 munch-2.5.0 pyproj-2.4.2.post1\n"
          ],
          "name": "stdout"
        }
      ]
    },
    {
      "cell_type": "code",
      "metadata": {
        "id": "gaEQHLl-igb4",
        "colab_type": "code",
        "outputId": "dfe60ae1-f80b-47ad-caf5-b09d90b8983a",
        "colab": {
          "base_uri": "https://localhost:8080/",
          "height": 206
        }
      },
      "source": [
        "import geopandas as gpd\n",
        "\n",
        "#!pip install geopandas\n",
        "# To install geopandas if you dont have it.\n",
        "geo_data = gpd.read_file(\"gdrive/My Drive/Zindi_Uber_hackathon/datasets/road_segments.shp\")\n",
        "\n",
        "geo_data.head()"
      ],
      "execution_count": 13,
      "outputs": [
        {
          "output_type": "execute_result",
          "data": {
            "text/html": [
              "<div>\n",
              "<style scoped>\n",
              "    .dataframe tbody tr th:only-of-type {\n",
              "        vertical-align: middle;\n",
              "    }\n",
              "\n",
              "    .dataframe tbody tr th {\n",
              "        vertical-align: top;\n",
              "    }\n",
              "\n",
              "    .dataframe thead th {\n",
              "        text-align: right;\n",
              "    }\n",
              "</style>\n",
              "<table border=\"1\" class=\"dataframe\">\n",
              "  <thead>\n",
              "    <tr style=\"text-align: right;\">\n",
              "      <th></th>\n",
              "      <th>ROADNO</th>\n",
              "      <th>CLASS</th>\n",
              "      <th>REGION</th>\n",
              "      <th>WIDTH</th>\n",
              "      <th>LANES</th>\n",
              "      <th>SURFTYPE</th>\n",
              "      <th>PAVETYPE</th>\n",
              "      <th>CONDITION</th>\n",
              "      <th>length_1</th>\n",
              "      <th>segment_id</th>\n",
              "      <th>geometry</th>\n",
              "    </tr>\n",
              "  </thead>\n",
              "  <tbody>\n",
              "    <tr>\n",
              "      <th>0</th>\n",
              "      <td>R300</td>\n",
              "      <td>Primary</td>\n",
              "      <td>Western Cape</td>\n",
              "      <td>20.2</td>\n",
              "      <td>2</td>\n",
              "      <td>Paved</td>\n",
              "      <td>FLEX</td>\n",
              "      <td>Good</td>\n",
              "      <td>471.207</td>\n",
              "      <td>D1U6OOF</td>\n",
              "      <td>LINESTRING (18.65262 -33.97724, 18.65264 -33.9...</td>\n",
              "    </tr>\n",
              "    <tr>\n",
              "      <th>1</th>\n",
              "      <td>R300</td>\n",
              "      <td>Primary</td>\n",
              "      <td>Western Cape</td>\n",
              "      <td>20.2</td>\n",
              "      <td>2</td>\n",
              "      <td>Paved</td>\n",
              "      <td>FLEX</td>\n",
              "      <td>Good</td>\n",
              "      <td>471.207</td>\n",
              "      <td>NG4X2MD</td>\n",
              "      <td>LINESTRING (18.65347 -33.97309, 18.65347 -33.9...</td>\n",
              "    </tr>\n",
              "    <tr>\n",
              "      <th>2</th>\n",
              "      <td>R300</td>\n",
              "      <td>Primary</td>\n",
              "      <td>Western Cape</td>\n",
              "      <td>20.2</td>\n",
              "      <td>2</td>\n",
              "      <td>Paved</td>\n",
              "      <td>FLEX</td>\n",
              "      <td>Good</td>\n",
              "      <td>471.207</td>\n",
              "      <td>792705Z</td>\n",
              "      <td>LINESTRING (18.65431 -33.96894, 18.65432 -33.9...</td>\n",
              "    </tr>\n",
              "    <tr>\n",
              "      <th>3</th>\n",
              "      <td>R300</td>\n",
              "      <td>Primary</td>\n",
              "      <td>Western Cape</td>\n",
              "      <td>20.2</td>\n",
              "      <td>2</td>\n",
              "      <td>Paved</td>\n",
              "      <td>FLEX</td>\n",
              "      <td>Good</td>\n",
              "      <td>471.207</td>\n",
              "      <td>IK67XHB</td>\n",
              "      <td>LINESTRING (18.65515 -33.96480, 18.65517 -33.9...</td>\n",
              "    </tr>\n",
              "    <tr>\n",
              "      <th>4</th>\n",
              "      <td>R300</td>\n",
              "      <td>Primary</td>\n",
              "      <td>Western Cape</td>\n",
              "      <td>20.2</td>\n",
              "      <td>2</td>\n",
              "      <td>Paved</td>\n",
              "      <td>FLEX</td>\n",
              "      <td>Good</td>\n",
              "      <td>471.207</td>\n",
              "      <td>OWCF2MH</td>\n",
              "      <td>LINESTRING (18.65600 -33.96065, 18.65602 -33.9...</td>\n",
              "    </tr>\n",
              "  </tbody>\n",
              "</table>\n",
              "</div>"
            ],
            "text/plain": [
              "  ROADNO    CLASS  ... segment_id                                           geometry\n",
              "0   R300  Primary  ...    D1U6OOF  LINESTRING (18.65262 -33.97724, 18.65264 -33.9...\n",
              "1   R300  Primary  ...    NG4X2MD  LINESTRING (18.65347 -33.97309, 18.65347 -33.9...\n",
              "2   R300  Primary  ...    792705Z  LINESTRING (18.65431 -33.96894, 18.65432 -33.9...\n",
              "3   R300  Primary  ...    IK67XHB  LINESTRING (18.65515 -33.96480, 18.65517 -33.9...\n",
              "4   R300  Primary  ...    OWCF2MH  LINESTRING (18.65600 -33.96065, 18.65602 -33.9...\n",
              "\n",
              "[5 rows x 11 columns]"
            ]
          },
          "metadata": {
            "tags": []
          },
          "execution_count": 13
        }
      ]
    },
    {
      "cell_type": "code",
      "metadata": {
        "id": "nsluxhAiigcD",
        "colab_type": "code",
        "outputId": "4485d84e-4fbc-42cf-f10e-d6bff3311623",
        "colab": {
          "base_uri": "https://localhost:8080/",
          "height": 34
        }
      },
      "source": [
        "geo_data.segment_id.nunique()"
      ],
      "execution_count": 14,
      "outputs": [
        {
          "output_type": "execute_result",
          "data": {
            "text/plain": [
              "552"
            ]
          },
          "metadata": {
            "tags": []
          },
          "execution_count": 14
        }
      ]
    },
    {
      "cell_type": "code",
      "metadata": {
        "id": "UAy-wqd0igcK",
        "colab_type": "code",
        "outputId": "28565032-1601-4819-b3c3-e1dd7be8618a",
        "colab": {
          "base_uri": "https://localhost:8080/",
          "height": 295
        }
      },
      "source": [
        "geo_data.info()"
      ],
      "execution_count": 15,
      "outputs": [
        {
          "output_type": "stream",
          "text": [
            "<class 'geopandas.geodataframe.GeoDataFrame'>\n",
            "RangeIndex: 644 entries, 0 to 643\n",
            "Data columns (total 11 columns):\n",
            "ROADNO        644 non-null object\n",
            "CLASS         644 non-null object\n",
            "REGION        644 non-null object\n",
            "WIDTH         644 non-null float64\n",
            "LANES         644 non-null int64\n",
            "SURFTYPE      644 non-null object\n",
            "PAVETYPE      644 non-null object\n",
            "CONDITION     644 non-null object\n",
            "length_1      644 non-null float64\n",
            "segment_id    644 non-null object\n",
            "geometry      644 non-null geometry\n",
            "dtypes: float64(2), geometry(1), int64(1), object(7)\n",
            "memory usage: 55.5+ KB\n"
          ],
          "name": "stdout"
        }
      ]
    },
    {
      "cell_type": "code",
      "metadata": {
        "id": "JExJzAtpigcR",
        "colab_type": "code",
        "colab": {}
      },
      "source": [
        "# lets plot where the condition, geometry, and segment\n",
        "\n",
        "plot_data = geo_data.loc[:, [\"CLASS\", \"CONDITION\", \"geometry\",\"segment_id\"]].copy()"
      ],
      "execution_count": 0,
      "outputs": []
    },
    {
      "cell_type": "code",
      "metadata": {
        "id": "j9Ch6WMXigcY",
        "colab_type": "code",
        "outputId": "d0e1afc4-e615-4874-cc3a-2e5238c1fc17",
        "colab": {
          "base_uri": "https://localhost:8080/",
          "height": 104
        }
      },
      "source": [
        "plot_data.CONDITION.value_counts() #lets see how many good/bad  road conditions do we have. Maybe these influence the accidents\n",
        "\n",
        "# Check this out later guys, don't want to give too much."
      ],
      "execution_count": 17,
      "outputs": [
        {
          "output_type": "execute_result",
          "data": {
            "text/plain": [
              "Very Good    331\n",
              "Unknown      182\n",
              "Good         115\n",
              "Fair          16\n",
              "Name: CONDITION, dtype: int64"
            ]
          },
          "metadata": {
            "tags": []
          },
          "execution_count": 17
        }
      ]
    },
    {
      "cell_type": "code",
      "metadata": {
        "id": "ruMknhSzigcf",
        "colab_type": "code",
        "outputId": "a802f80f-56b2-423b-9067-bddf401a7041",
        "colab": {
          "base_uri": "https://localhost:8080/",
          "height": 251
        }
      },
      "source": [
        "map_conditions = plot_data.loc[plot_data.CONDITION.isin(['Very Good', 'Unknown'])].copy() # compare the bad place to good \n",
        "\n",
        "\n",
        "map_conditions.plot()"
      ],
      "execution_count": 18,
      "outputs": [
        {
          "output_type": "execute_result",
          "data": {
            "text/plain": [
              "<matplotlib.axes._subplots.AxesSubplot at 0x7fba14039c88>"
            ]
          },
          "metadata": {
            "tags": []
          },
          "execution_count": 18
        },
        {
          "output_type": "display_data",
          "data": {
            "image/png": "[encoded data removed]",
            "text/plain": [
              "<Figure size 432x288 with 1 Axes>"
            ]
          },
          "metadata": {
            "tags": []
          }
        }
      ]
    },
    {
      "cell_type": "markdown",
      "metadata": {
        "colab_type": "text",
        "id": "lFuCpIZ8ygqE"
      },
      "source": [
        "# We want train and test arrays that match the sample submission.\n",
        "\n",
        "### Don't bother reading too closely - check the output and move on. I did this so you don't have to!"
      ]
    },
    {
      "cell_type": "markdown",
      "metadata": {
        "colab_type": "text",
        "id": "k2fWU2nxygqG"
      },
      "source": [
        "First, we split by date. Here I'm using only 2017 for training, and part of 2018 for local testing."
      ]
    },
    {
      "cell_type": "code",
      "metadata": {
        "colab_type": "code",
        "id": "vc9PQ_rNygqI",
        "colab": {}
      },
      "source": [
        "# Train on 2017\n",
        "train = data.loc[data['Occurrence Local Date Time'] < '2018-01-01']\n",
        "train = train.loc[train['Occurrence Local Date Time'] >= '2017-01-01']\n",
        "\n",
        "# Test locally on the last part of 2018\n",
        "local_test = data.loc[data['Occurrence Local Date Time'] < '2019-01-01']\n",
        "local_test = local_test.loc[local_test['Occurrence Local Date Time'] >= '2018-09-01']"
      ],
      "execution_count": 0,
      "outputs": []
    },
    {
      "cell_type": "markdown",
      "metadata": {
        "colab_type": "text",
        "id": "r6c3GNkbygqN"
      },
      "source": [
        "Now we need to reshape these. "
      ]
    },
    {
      "cell_type": "code",
      "metadata": {
        "colab_type": "code",
        "id": "3UeXMhW5ygqP",
        "outputId": "3b7b5ac9-4a2e-49c1-8b7f-935cbe362257",
        "colab": {
          "base_uri": "https://localhost:8080/",
          "height": 342
        }
      },
      "source": [
        "# Create a dataframe with a column for each segment_id (sid)\n",
        "# Each row represents an hour.\n",
        "\n",
        "sids = data['road_segment_id'].unique()\n",
        "\n",
        "dts = pd.date_range('2017-01-01',\n",
        "                    '2018-01-01',\n",
        "                    freq=\"1h\")\n",
        "tr = pd.DataFrame({'datetime':dts})\n",
        "\n",
        "for sid in sids:\n",
        "    tr[str(sid)] = 0\n",
        "    events = train.loc[train['road_segment_id'] == sid]\n",
        "    dts = events['Occurrence Local Date Time'].dt.round('H')\n",
        "    dates = dts.astype(str).unique()\n",
        "    tr.loc[tr['datetime'].isin(dates), sid] = 1\n",
        "tr.head()"
      ],
      "execution_count": 20,
      "outputs": [
        {
          "output_type": "execute_result",
          "data": {
            "text/html": [
              "<div>\n",
              "<style scoped>\n",
              "    .dataframe tbody tr th:only-of-type {\n",
              "        vertical-align: middle;\n",
              "    }\n",
              "\n",
              "    .dataframe tbody tr th {\n",
              "        vertical-align: top;\n",
              "    }\n",
              "\n",
              "    .dataframe thead th {\n",
              "        text-align: right;\n",
              "    }\n",
              "</style>\n",
              "<table border=\"1\" class=\"dataframe\">\n",
              "  <thead>\n",
              "    <tr style=\"text-align: right;\">\n",
              "      <th></th>\n",
              "      <th>datetime</th>\n",
              "      <th>S0B3CGQ</th>\n",
              "      <th>RYJYAPI</th>\n",
              "      <th>U3KP57C</th>\n",
              "      <th>RY0TRQ8</th>\n",
              "      <th>8LOVJZ3</th>\n",
              "      <th>X4UA382</th>\n",
              "      <th>0QR8FDW</th>\n",
              "      <th>DZABHQW</th>\n",
              "      <th>EKZN1VM</th>\n",
              "      <th>H9XYX9Q</th>\n",
              "      <th>03RHJ3G</th>\n",
              "      <th>FTX7LB8</th>\n",
              "      <th>Q03FQ74</th>\n",
              "      <th>5AC6YRF</th>\n",
              "      <th>1RWEBRU</th>\n",
              "      <th>DCB3LQM</th>\n",
              "      <th>HN83F3L</th>\n",
              "      <th>SPPGKO2</th>\n",
              "      <th>C1ERJ22</th>\n",
              "      <th>AJRKP0C</th>\n",
              "      <th>UUZT4OE</th>\n",
              "      <th>WAC029P</th>\n",
              "      <th>JT4HGZ2</th>\n",
              "      <th>8Z5P9T1</th>\n",
              "      <th>UAXX1ZE</th>\n",
              "      <th>74A6FL0</th>\n",
              "      <th>2M1UBKJ</th>\n",
              "      <th>E5D3KEB</th>\n",
              "      <th>NQSL7FX</th>\n",
              "      <th>S200A1J</th>\n",
              "      <th>ETFFDX5</th>\n",
              "      <th>R6JUSZT</th>\n",
              "      <th>EDXK0HP</th>\n",
              "      <th>N5NO82G</th>\n",
              "      <th>5DHNI4S</th>\n",
              "      <th>VUYACXV</th>\n",
              "      <th>VMCY8BI</th>\n",
              "      <th>927BHUF</th>\n",
              "      <th>3MW0MN9</th>\n",
              "      <th>...</th>\n",
              "      <th>SG89YSS</th>\n",
              "      <th>-34.0894652753</th>\n",
              "      <th>XYFQJ1Q</th>\n",
              "      <th>-33.9680008638</th>\n",
              "      <th>QTT8QNT</th>\n",
              "      <th>LC8FONX</th>\n",
              "      <th>WJXP54Z</th>\n",
              "      <th>GVQD9D6</th>\n",
              "      <th>64QSPWU</th>\n",
              "      <th>LRCHHQJ</th>\n",
              "      <th>Q2HCM1O</th>\n",
              "      <th>-33.8891283413</th>\n",
              "      <th>F055OA5</th>\n",
              "      <th>-34.0436786939</th>\n",
              "      <th>SY568EU</th>\n",
              "      <th>QBSA1OR</th>\n",
              "      <th>8YJIRQ2</th>\n",
              "      <th>KVOVDD8</th>\n",
              "      <th>H983665</th>\n",
              "      <th>7T2W8WU</th>\n",
              "      <th>4NSOFJG</th>\n",
              "      <th>4UAL23D</th>\n",
              "      <th>956JU5F</th>\n",
              "      <th>B8NRA4K</th>\n",
              "      <th>PH8DIYU</th>\n",
              "      <th>F47NAGJ</th>\n",
              "      <th>1NG8I9K</th>\n",
              "      <th>ZP9STNM</th>\n",
              "      <th>D3349RH</th>\n",
              "      <th>E4L0I98</th>\n",
              "      <th>YVR8GT6</th>\n",
              "      <th>ZAVM3PJ</th>\n",
              "      <th>DS4NLQE</th>\n",
              "      <th>HR19LL7</th>\n",
              "      <th>1451FOG</th>\n",
              "      <th>2ON8NSO</th>\n",
              "      <th>NFUEAN5</th>\n",
              "      <th>4T821GV</th>\n",
              "      <th>J6A19TW</th>\n",
              "      <th>43RCYZH</th>\n",
              "    </tr>\n",
              "  </thead>\n",
              "  <tbody>\n",
              "    <tr>\n",
              "      <th>0</th>\n",
              "      <td>2017-01-01 00:00:00</td>\n",
              "      <td>0</td>\n",
              "      <td>0</td>\n",
              "      <td>0</td>\n",
              "      <td>0</td>\n",
              "      <td>0</td>\n",
              "      <td>0</td>\n",
              "      <td>0</td>\n",
              "      <td>0</td>\n",
              "      <td>0</td>\n",
              "      <td>0</td>\n",
              "      <td>0</td>\n",
              "      <td>0</td>\n",
              "      <td>0</td>\n",
              "      <td>0</td>\n",
              "      <td>0</td>\n",
              "      <td>0</td>\n",
              "      <td>0</td>\n",
              "      <td>0</td>\n",
              "      <td>0</td>\n",
              "      <td>0</td>\n",
              "      <td>0</td>\n",
              "      <td>0</td>\n",
              "      <td>0</td>\n",
              "      <td>0</td>\n",
              "      <td>0</td>\n",
              "      <td>0</td>\n",
              "      <td>0</td>\n",
              "      <td>0</td>\n",
              "      <td>0</td>\n",
              "      <td>0</td>\n",
              "      <td>0</td>\n",
              "      <td>0</td>\n",
              "      <td>0</td>\n",
              "      <td>0</td>\n",
              "      <td>0</td>\n",
              "      <td>0</td>\n",
              "      <td>0</td>\n",
              "      <td>0</td>\n",
              "      <td>0</td>\n",
              "      <td>...</td>\n",
              "      <td>0</td>\n",
              "      <td>0</td>\n",
              "      <td>0</td>\n",
              "      <td>0</td>\n",
              "      <td>0</td>\n",
              "      <td>0</td>\n",
              "      <td>0</td>\n",
              "      <td>0</td>\n",
              "      <td>0</td>\n",
              "      <td>0</td>\n",
              "      <td>0</td>\n",
              "      <td>0</td>\n",
              "      <td>0</td>\n",
              "      <td>0</td>\n",
              "      <td>0</td>\n",
              "      <td>0</td>\n",
              "      <td>0</td>\n",
              "      <td>0</td>\n",
              "      <td>0</td>\n",
              "      <td>0</td>\n",
              "      <td>0</td>\n",
              "      <td>0</td>\n",
              "      <td>0</td>\n",
              "      <td>0</td>\n",
              "      <td>0</td>\n",
              "      <td>0</td>\n",
              "      <td>0</td>\n",
              "      <td>0</td>\n",
              "      <td>0</td>\n",
              "      <td>0</td>\n",
              "      <td>0</td>\n",
              "      <td>0</td>\n",
              "      <td>0</td>\n",
              "      <td>0</td>\n",
              "      <td>0</td>\n",
              "      <td>0</td>\n",
              "      <td>0</td>\n",
              "      <td>0</td>\n",
              "      <td>0</td>\n",
              "      <td>0</td>\n",
              "    </tr>\n",
              "    <tr>\n",
              "      <th>1</th>\n",
              "      <td>2017-01-01 01:00:00</td>\n",
              "      <td>0</td>\n",
              "      <td>0</td>\n",
              "      <td>0</td>\n",
              "      <td>0</td>\n",
              "      <td>0</td>\n",
              "      <td>0</td>\n",
              "      <td>0</td>\n",
              "      <td>0</td>\n",
              "      <td>0</td>\n",
              "      <td>0</td>\n",
              "      <td>0</td>\n",
              "      <td>0</td>\n",
              "      <td>0</td>\n",
              "      <td>0</td>\n",
              "      <td>0</td>\n",
              "      <td>0</td>\n",
              "      <td>0</td>\n",
              "      <td>0</td>\n",
              "      <td>0</td>\n",
              "      <td>0</td>\n",
              "      <td>0</td>\n",
              "      <td>0</td>\n",
              "      <td>0</td>\n",
              "      <td>0</td>\n",
              "      <td>0</td>\n",
              "      <td>0</td>\n",
              "      <td>0</td>\n",
              "      <td>0</td>\n",
              "      <td>0</td>\n",
              "      <td>0</td>\n",
              "      <td>0</td>\n",
              "      <td>0</td>\n",
              "      <td>0</td>\n",
              "      <td>0</td>\n",
              "      <td>0</td>\n",
              "      <td>0</td>\n",
              "      <td>0</td>\n",
              "      <td>0</td>\n",
              "      <td>0</td>\n",
              "      <td>...</td>\n",
              "      <td>0</td>\n",
              "      <td>0</td>\n",
              "      <td>0</td>\n",
              "      <td>0</td>\n",
              "      <td>0</td>\n",
              "      <td>0</td>\n",
              "      <td>0</td>\n",
              "      <td>0</td>\n",
              "      <td>0</td>\n",
              "      <td>0</td>\n",
              "      <td>0</td>\n",
              "      <td>0</td>\n",
              "      <td>0</td>\n",
              "      <td>0</td>\n",
              "      <td>0</td>\n",
              "      <td>0</td>\n",
              "      <td>0</td>\n",
              "      <td>0</td>\n",
              "      <td>0</td>\n",
              "      <td>0</td>\n",
              "      <td>0</td>\n",
              "      <td>0</td>\n",
              "      <td>0</td>\n",
              "      <td>0</td>\n",
              "      <td>0</td>\n",
              "      <td>0</td>\n",
              "      <td>0</td>\n",
              "      <td>0</td>\n",
              "      <td>0</td>\n",
              "      <td>0</td>\n",
              "      <td>0</td>\n",
              "      <td>0</td>\n",
              "      <td>0</td>\n",
              "      <td>0</td>\n",
              "      <td>0</td>\n",
              "      <td>0</td>\n",
              "      <td>0</td>\n",
              "      <td>0</td>\n",
              "      <td>0</td>\n",
              "      <td>0</td>\n",
              "    </tr>\n",
              "    <tr>\n",
              "      <th>2</th>\n",
              "      <td>2017-01-01 02:00:00</td>\n",
              "      <td>0</td>\n",
              "      <td>0</td>\n",
              "      <td>0</td>\n",
              "      <td>0</td>\n",
              "      <td>0</td>\n",
              "      <td>0</td>\n",
              "      <td>0</td>\n",
              "      <td>0</td>\n",
              "      <td>0</td>\n",
              "      <td>0</td>\n",
              "      <td>0</td>\n",
              "      <td>0</td>\n",
              "      <td>0</td>\n",
              "      <td>0</td>\n",
              "      <td>0</td>\n",
              "      <td>0</td>\n",
              "      <td>0</td>\n",
              "      <td>0</td>\n",
              "      <td>0</td>\n",
              "      <td>0</td>\n",
              "      <td>0</td>\n",
              "      <td>0</td>\n",
              "      <td>0</td>\n",
              "      <td>0</td>\n",
              "      <td>0</td>\n",
              "      <td>0</td>\n",
              "      <td>0</td>\n",
              "      <td>0</td>\n",
              "      <td>0</td>\n",
              "      <td>0</td>\n",
              "      <td>0</td>\n",
              "      <td>0</td>\n",
              "      <td>0</td>\n",
              "      <td>0</td>\n",
              "      <td>0</td>\n",
              "      <td>0</td>\n",
              "      <td>0</td>\n",
              "      <td>0</td>\n",
              "      <td>0</td>\n",
              "      <td>...</td>\n",
              "      <td>0</td>\n",
              "      <td>0</td>\n",
              "      <td>0</td>\n",
              "      <td>0</td>\n",
              "      <td>0</td>\n",
              "      <td>0</td>\n",
              "      <td>0</td>\n",
              "      <td>0</td>\n",
              "      <td>0</td>\n",
              "      <td>0</td>\n",
              "      <td>0</td>\n",
              "      <td>0</td>\n",
              "      <td>0</td>\n",
              "      <td>0</td>\n",
              "      <td>0</td>\n",
              "      <td>0</td>\n",
              "      <td>0</td>\n",
              "      <td>0</td>\n",
              "      <td>0</td>\n",
              "      <td>0</td>\n",
              "      <td>0</td>\n",
              "      <td>0</td>\n",
              "      <td>0</td>\n",
              "      <td>0</td>\n",
              "      <td>0</td>\n",
              "      <td>0</td>\n",
              "      <td>0</td>\n",
              "      <td>0</td>\n",
              "      <td>0</td>\n",
              "      <td>0</td>\n",
              "      <td>0</td>\n",
              "      <td>0</td>\n",
              "      <td>0</td>\n",
              "      <td>0</td>\n",
              "      <td>0</td>\n",
              "      <td>0</td>\n",
              "      <td>0</td>\n",
              "      <td>0</td>\n",
              "      <td>0</td>\n",
              "      <td>0</td>\n",
              "    </tr>\n",
              "    <tr>\n",
              "      <th>3</th>\n",
              "      <td>2017-01-01 03:00:00</td>\n",
              "      <td>0</td>\n",
              "      <td>0</td>\n",
              "      <td>0</td>\n",
              "      <td>0</td>\n",
              "      <td>0</td>\n",
              "      <td>0</td>\n",
              "      <td>0</td>\n",
              "      <td>0</td>\n",
              "      <td>0</td>\n",
              "      <td>0</td>\n",
              "      <td>0</td>\n",
              "      <td>0</td>\n",
              "      <td>0</td>\n",
              "      <td>0</td>\n",
              "      <td>0</td>\n",
              "      <td>0</td>\n",
              "      <td>0</td>\n",
              "      <td>0</td>\n",
              "      <td>0</td>\n",
              "      <td>0</td>\n",
              "      <td>0</td>\n",
              "      <td>0</td>\n",
              "      <td>0</td>\n",
              "      <td>0</td>\n",
              "      <td>0</td>\n",
              "      <td>0</td>\n",
              "      <td>0</td>\n",
              "      <td>0</td>\n",
              "      <td>0</td>\n",
              "      <td>0</td>\n",
              "      <td>0</td>\n",
              "      <td>0</td>\n",
              "      <td>0</td>\n",
              "      <td>0</td>\n",
              "      <td>0</td>\n",
              "      <td>0</td>\n",
              "      <td>0</td>\n",
              "      <td>0</td>\n",
              "      <td>0</td>\n",
              "      <td>...</td>\n",
              "      <td>0</td>\n",
              "      <td>0</td>\n",
              "      <td>0</td>\n",
              "      <td>0</td>\n",
              "      <td>0</td>\n",
              "      <td>0</td>\n",
              "      <td>0</td>\n",
              "      <td>0</td>\n",
              "      <td>0</td>\n",
              "      <td>0</td>\n",
              "      <td>0</td>\n",
              "      <td>0</td>\n",
              "      <td>0</td>\n",
              "      <td>0</td>\n",
              "      <td>0</td>\n",
              "      <td>0</td>\n",
              "      <td>0</td>\n",
              "      <td>0</td>\n",
              "      <td>0</td>\n",
              "      <td>0</td>\n",
              "      <td>0</td>\n",
              "      <td>0</td>\n",
              "      <td>0</td>\n",
              "      <td>0</td>\n",
              "      <td>0</td>\n",
              "      <td>0</td>\n",
              "      <td>0</td>\n",
              "      <td>0</td>\n",
              "      <td>0</td>\n",
              "      <td>0</td>\n",
              "      <td>0</td>\n",
              "      <td>0</td>\n",
              "      <td>0</td>\n",
              "      <td>0</td>\n",
              "      <td>0</td>\n",
              "      <td>0</td>\n",
              "      <td>0</td>\n",
              "      <td>0</td>\n",
              "      <td>0</td>\n",
              "      <td>0</td>\n",
              "    </tr>\n",
              "    <tr>\n",
              "      <th>4</th>\n",
              "      <td>2017-01-01 04:00:00</td>\n",
              "      <td>0</td>\n",
              "      <td>0</td>\n",
              "      <td>0</td>\n",
              "      <td>0</td>\n",
              "      <td>0</td>\n",
              "      <td>0</td>\n",
              "      <td>0</td>\n",
              "      <td>0</td>\n",
              "      <td>0</td>\n",
              "      <td>0</td>\n",
              "      <td>0</td>\n",
              "      <td>0</td>\n",
              "      <td>0</td>\n",
              "      <td>0</td>\n",
              "      <td>0</td>\n",
              "      <td>0</td>\n",
              "      <td>0</td>\n",
              "      <td>0</td>\n",
              "      <td>0</td>\n",
              "      <td>0</td>\n",
              "      <td>0</td>\n",
              "      <td>0</td>\n",
              "      <td>0</td>\n",
              "      <td>0</td>\n",
              "      <td>0</td>\n",
              "      <td>0</td>\n",
              "      <td>0</td>\n",
              "      <td>0</td>\n",
              "      <td>0</td>\n",
              "      <td>0</td>\n",
              "      <td>0</td>\n",
              "      <td>0</td>\n",
              "      <td>0</td>\n",
              "      <td>0</td>\n",
              "      <td>0</td>\n",
              "      <td>0</td>\n",
              "      <td>0</td>\n",
              "      <td>0</td>\n",
              "      <td>0</td>\n",
              "      <td>...</td>\n",
              "      <td>0</td>\n",
              "      <td>0</td>\n",
              "      <td>0</td>\n",
              "      <td>0</td>\n",
              "      <td>0</td>\n",
              "      <td>0</td>\n",
              "      <td>0</td>\n",
              "      <td>0</td>\n",
              "      <td>0</td>\n",
              "      <td>0</td>\n",
              "      <td>0</td>\n",
              "      <td>0</td>\n",
              "      <td>0</td>\n",
              "      <td>0</td>\n",
              "      <td>0</td>\n",
              "      <td>0</td>\n",
              "      <td>0</td>\n",
              "      <td>0</td>\n",
              "      <td>0</td>\n",
              "      <td>0</td>\n",
              "      <td>0</td>\n",
              "      <td>0</td>\n",
              "      <td>0</td>\n",
              "      <td>0</td>\n",
              "      <td>0</td>\n",
              "      <td>0</td>\n",
              "      <td>0</td>\n",
              "      <td>0</td>\n",
              "      <td>0</td>\n",
              "      <td>0</td>\n",
              "      <td>0</td>\n",
              "      <td>0</td>\n",
              "      <td>0</td>\n",
              "      <td>0</td>\n",
              "      <td>0</td>\n",
              "      <td>0</td>\n",
              "      <td>0</td>\n",
              "      <td>0</td>\n",
              "      <td>0</td>\n",
              "      <td>0</td>\n",
              "    </tr>\n",
              "  </tbody>\n",
              "</table>\n",
              "<p>5 rows × 550 columns</p>\n",
              "</div>"
            ],
            "text/plain": [
              "             datetime  S0B3CGQ  RYJYAPI  ...  4T821GV  J6A19TW  43RCYZH\n",
              "0 2017-01-01 00:00:00        0        0  ...        0        0        0\n",
              "1 2017-01-01 01:00:00        0        0  ...        0        0        0\n",
              "2 2017-01-01 02:00:00        0        0  ...        0        0        0\n",
              "3 2017-01-01 03:00:00        0        0  ...        0        0        0\n",
              "4 2017-01-01 04:00:00        0        0  ...        0        0        0\n",
              "\n",
              "[5 rows x 550 columns]"
            ]
          },
          "metadata": {
            "tags": []
          },
          "execution_count": 20
        }
      ]
    },
    {
      "cell_type": "code",
      "metadata": {
        "colab_type": "code",
        "id": "200FOHNKygqT",
        "colab": {}
      },
      "source": [
        "# Reshape this as in sample submission\n",
        "# I add some extra columns that may be useful\n",
        "train = pd.DataFrame({\n",
        "    'datetime x segment_id':np.concatenate([[str(x) + \" x \" + str(c) \n",
        "                                             for c in sids] \n",
        "                                            for x in tr['datetime']]),\n",
        "    'datetime':np.concatenate([[str(x) for c in sids] for x in tr['datetime']]),\n",
        "    'segment_id':np.concatenate([[str(c) for c in sids] for x in tr['datetime']]),\n",
        "    'y':tr[sids].values.flatten()\n",
        "})\n",
        "train.head()"
      ],
      "execution_count": 0,
      "outputs": []
    },
    {
      "cell_type": "code",
      "metadata": {
        "colab_type": "code",
        "id": "1foBi4QwygqZ",
        "colab": {}
      },
      "source": [
        "# Same for local test (test from now on)\n",
        "dts = pd.date_range('2018-09-01','2018-12-31',\n",
        "                    freq=\"1h\")\n",
        "tr = pd.DataFrame({'datetime':dts})\n",
        "\n",
        "for sid in sids:\n",
        "    tr[str(sid)] = 0\n",
        "    events = local_test.loc[local_test['road_segment_id'] == sid]\n",
        "    dts = events['Occurrence Local Date Time'].dt.round('H')\n",
        "    dates = dts.astype(str).unique()\n",
        "    tr.loc[tr['datetime'].isin(dates), sid] = 1\n",
        "    \n",
        "test = pd.DataFrame({\n",
        "    'datetime x segment_id':np.concatenate([[str(x) + \" x \" + str(c) \n",
        "                                             for c in sids] \n",
        "                                            for x in tr['datetime']]),\n",
        "    'datetime':np.concatenate([[str(x) for c in sids] for x in tr['datetime']]),\n",
        "    'segment_id':np.concatenate([[str(c) for c in sids] for x in tr['datetime']]),\n",
        "    'y':tr[sids].values.flatten()\n",
        "})\n",
        "test.head()"
      ],
      "execution_count": 0,
      "outputs": []
    },
    {
      "cell_type": "code",
      "metadata": {
        "colab_type": "code",
        "id": "htT6oby66vRS",
        "colab": {}
      },
      "source": [
        "train.y.sum()"
      ],
      "execution_count": 0,
      "outputs": []
    },
    {
      "cell_type": "code",
      "metadata": {
        "id": "YUk7gPuAigdP",
        "colab_type": "code",
        "colab": {}
      },
      "source": [
        "test.y.sum()"
      ],
      "execution_count": 0,
      "outputs": []
    },
    {
      "cell_type": "markdown",
      "metadata": {
        "colab_type": "text",
        "id": "xsdEtjE6ygqh"
      },
      "source": [
        "# Now that we have these, what features can we add?"
      ]
    },
    {
      "cell_type": "markdown",
      "metadata": {
        "colab_type": "text",
        "id": "sAn5K0spygqj"
      },
      "source": [
        "All we have to go on is the date and segment ID. The shapefile of road segments has info on road type etc. We could get location for the segments, and use the uber movement data to add traffic speed for that area. Finally, we can do date-related values. I'll do the third first as it's a nice easy way to get something."
      ]
    },
    {
      "cell_type": "code",
      "metadata": {
        "colab_type": "code",
        "id": "MfdgCfbrygql",
        "colab": {}
      },
      "source": [
        "train['datetime'] = pd.to_datetime(train['datetime'])\n",
        "train['day'] = train['datetime'].dt.weekday\n",
        "\n",
        "test['datetime'] = pd.to_datetime(test['datetime'])\n",
        "test['day'] = test['datetime'].dt.weekday"
      ],
      "execution_count": 0,
      "outputs": []
    },
    {
      "cell_type": "code",
      "metadata": {
        "colab_type": "code",
        "id": "RDQgfajRygqs",
        "colab": {}
      },
      "source": [
        "train['min'] = train['datetime'].dt.hour*60+train['datetime'].dt.minute\n",
        "train.head()"
      ],
      "execution_count": 0,
      "outputs": []
    },
    {
      "cell_type": "code",
      "metadata": {
        "id": "bEwEK_NAigd3",
        "colab_type": "code",
        "colab": {}
      },
      "source": [
        "train.datetime[0].year"
      ],
      "execution_count": 0,
      "outputs": []
    },
    {
      "cell_type": "code",
      "metadata": {
        "id": "HYBrEwD8igd9",
        "colab_type": "code",
        "colab": {}
      },
      "source": [
        "test['min'] = test['datetime'].dt.hour*60+test['datetime'].dt.minute\n",
        "test.head()"
      ],
      "execution_count": 0,
      "outputs": []
    },
    {
      "cell_type": "code",
      "metadata": {
        "id": "FoplQIZjigeG",
        "colab_type": "code",
        "colab": {}
      },
      "source": [
        "locations = data.groupby(\"road_segment_id\").mean()[['longitude','latitude']]\n",
        "locations.dropna()"
      ],
      "execution_count": 0,
      "outputs": []
    },
    {
      "cell_type": "code",
      "metadata": {
        "colab_type": "code",
        "id": "yozLX_C5ygqy",
        "scrolled": true,
        "colab": {}
      },
      "source": [
        "#locations = data.groupby('road_segment_id').mean()[['longitude', 'latitude']]\n",
        "#locations.dropna\n",
        "\n",
        "#locations.head(1)"
      ],
      "execution_count": 0,
      "outputs": []
    },
    {
      "cell_type": "code",
      "metadata": {
        "colab_type": "code",
        "id": "hPmTL72zygq1",
        "colab": {}
      },
      "source": [
        "train = pd.merge(train, locations, left_on='segment_id', right_on='road_segment_id')\n",
        "train.head()\n",
        "\n"
      ],
      "execution_count": 0,
      "outputs": []
    },
    {
      "cell_type": "code",
      "metadata": {
        "id": "NeIDj-gQigeU",
        "colab_type": "code",
        "colab": {}
      },
      "source": [
        "test = pd.merge(test, locations, left_on='segment_id', right_on='road_segment_id')\n",
        "test.head()\n",
        "\n"
      ],
      "execution_count": 0,
      "outputs": []
    },
    {
      "cell_type": "code",
      "metadata": {
        "id": "Lp3Aw4huigeX",
        "colab_type": "code",
        "colab": {}
      },
      "source": [
        "train.fillna(0, inplace=True)\n",
        "train.head()\n"
      ],
      "execution_count": 0,
      "outputs": []
    },
    {
      "cell_type": "code",
      "metadata": {
        "id": "o6yAwECMigec",
        "colab_type": "code",
        "colab": {}
      },
      "source": [
        "test.fillna(0, inplace=True)\n",
        "test.head()"
      ],
      "execution_count": 0,
      "outputs": []
    },
    {
      "cell_type": "code",
      "metadata": {
        "id": "w1NYTgfUigeg",
        "colab_type": "code",
        "colab": {}
      },
      "source": [
        "train.datetime[38].hour"
      ],
      "execution_count": 0,
      "outputs": []
    },
    {
      "cell_type": "markdown",
      "metadata": {
        "colab_type": "text",
        "id": "7a-p9dPCygq5"
      },
      "source": [
        "Cleaning up some things we don't need to save RAM"
      ]
    },
    {
      "cell_type": "code",
      "metadata": {
        "id": "pInIeP9kigel",
        "colab_type": "code",
        "colab": {}
      },
      "source": [
        "def get_year(dts):\n",
        "    return dts.year\n",
        "\n",
        "def get_month(dts):\n",
        "    return dts.month\n",
        "\n",
        "def get_day(dts):\n",
        "    return dts.day\n",
        "\n",
        "def get_hour(dts):\n",
        "    return dts.hour"
      ],
      "execution_count": 0,
      "outputs": []
    },
    {
      "cell_type": "code",
      "metadata": {
        "id": "QmptlORMigep",
        "colab_type": "code",
        "colab": {}
      },
      "source": [
        "dts = train.datetime\n",
        "train['year'] = list(map(get_year, dts))\n",
        "train['month'] = list(map(get_month, dts))\n",
        "train['day'] = list(map(get_day, dts))\n",
        "train['hour'] = list(map(get_hour, dts))"
      ],
      "execution_count": 0,
      "outputs": []
    },
    {
      "cell_type": "code",
      "metadata": {
        "id": "8qG6zRB2iges",
        "colab_type": "code",
        "colab": {}
      },
      "source": [
        "dts = test.datetime\n",
        "test['year'] = list(map(get_year, dts))\n",
        "test['month'] = list(map(get_month, dts))\n",
        "test['day'] = list(map(get_day, dts))\n",
        "test['hour'] = list(map(get_hour, dts))"
      ],
      "execution_count": 0,
      "outputs": []
    },
    {
      "cell_type": "code",
      "metadata": {
        "id": "P8V5K0Wnigew",
        "colab_type": "code",
        "colab": {}
      },
      "source": [
        "train.head()"
      ],
      "execution_count": 0,
      "outputs": []
    },
    {
      "cell_type": "code",
      "metadata": {
        "id": "j7r4LxXXige2",
        "colab_type": "code",
        "colab": {}
      },
      "source": [
        "train.iloc[4].datetime"
      ],
      "execution_count": 0,
      "outputs": []
    },
    {
      "cell_type": "code",
      "metadata": {
        "colab_type": "code",
        "id": "wskOIJZpygq7",
        "colab": {}
      },
      "source": [
        "data, local_test = 0, 0"
      ],
      "execution_count": 0,
      "outputs": []
    },
    {
      "cell_type": "markdown",
      "metadata": {
        "colab_type": "text",
        "id": "1Al2O0nkygq_"
      },
      "source": [
        "# Creating and training a model"
      ]
    },
    {
      "cell_type": "markdown",
      "metadata": {
        "colab_type": "text",
        "id": "8nGD7_LeygrB"
      },
      "source": [
        "I like CatBoost because you don't have to do much to get a decent set of predictions. Categorical columns are easy to deal with and it doesn't take hours to train. THat said, use whatever you like here!"
      ]
    },
    {
      "cell_type": "code",
      "metadata": {
        "colab_type": "code",
        "id": "4Qe71otK5ifX",
        "colab": {}
      },
      "source": [
        "#!pip install catboost"
      ],
      "execution_count": 0,
      "outputs": []
    },
    {
      "cell_type": "code",
      "metadata": {
        "colab_type": "code",
        "id": "40IYNXx1ygrC",
        "colab": {}
      },
      "source": [
        ""
      ],
      "execution_count": 0,
      "outputs": []
    },
    {
      "cell_type": "code",
      "metadata": {
        "id": "CEUNl3Z5igfO",
        "colab_type": "code",
        "colab": {}
      },
      "source": [
        "train.head()"
      ],
      "execution_count": 0,
      "outputs": []
    },
    {
      "cell_type": "code",
      "metadata": {
        "id": "DEvYdreHigfT",
        "colab_type": "code",
        "colab": {}
      },
      "source": [
        "(train.datetime.min(), train.datetime.max())"
      ],
      "execution_count": 0,
      "outputs": []
    },
    {
      "cell_type": "code",
      "metadata": {
        "id": "HvUTIikQigfY",
        "colab_type": "code",
        "colab": {}
      },
      "source": [
        "test.head()"
      ],
      "execution_count": 0,
      "outputs": []
    },
    {
      "cell_type": "code",
      "metadata": {
        "id": "q_BKn91Nigfd",
        "colab_type": "code",
        "colab": {}
      },
      "source": [
        "dummied_train = pd.get_dummies(train.drop('datetime x segment_id', axis=1), prefix='', prefix_sep='')\n",
        "dummied_test = pd.get_dummies(test.drop('datetime x segment_id', axis=1), prefix='', prefix_sep='')\n",
        "dummied_train.head()"
      ],
      "execution_count": 0,
      "outputs": []
    },
    {
      "cell_type": "code",
      "metadata": {
        "id": "35huf-uZigfg",
        "colab_type": "code",
        "colab": {}
      },
      "source": [
        "remove_cols = ['datetime', 'longitude', 'latitude', '-33.8891283413', '-33.9622761744', '-33.9680008638', '-34.0436786939', '-34.0894652753']"
      ],
      "execution_count": 0,
      "outputs": []
    },
    {
      "cell_type": "code",
      "metadata": {
        "id": "DVxEPRJTigfl",
        "colab_type": "code",
        "colab": {}
      },
      "source": [
        "from sklearn.ensemble import RandomForestClassifier\n",
        "\n",
        "X_train = dummied_train.drop(remove_cols, axis=1)\n",
        "X_test = dummied_test.drop(remove_cols, axis=1)\n",
        "y_train = train.y\n",
        "y_test = test.y"
      ],
      "execution_count": 0,
      "outputs": []
    },
    {
      "cell_type": "code",
      "metadata": {
        "id": "O3ehGRUVo2FL",
        "colab_type": "code",
        "colab": {}
      },
      "source": [
        "# rfc = RandomForestClassifier()\n",
        "# rfc.fit(X_train,y_train)# predictions\n",
        "# rfc_predict = rfc.predict(X_test)"
      ],
      "execution_count": 0,
      "outputs": []
    },
    {
      "cell_type": "code",
      "metadata": {
        "id": "GoCgrIodrGou",
        "colab_type": "code",
        "colab": {}
      },
      "source": [
        "# from sklearn.naive_bayes import GaussianNB\n",
        "\n",
        "# gnb = GaussianNB()\n",
        "# y_pred = gnb.fit(X_train, y_train).predict(X_test)"
      ],
      "execution_count": 0,
      "outputs": []
    },
    {
      "cell_type": "code",
      "metadata": {
        "id": "UFl90UbRrUa4",
        "colab_type": "code",
        "colab": {}
      },
      "source": [
        "# from sklearn.linear_model import LogisticRegression\n",
        "\n",
        "# clf = LogisticRegression(random_state=0).fit(X_train, y_train).predict(X_test)"
      ],
      "execution_count": 0,
      "outputs": []
    },
    {
      "cell_type": "code",
      "metadata": {
        "id": "LJDccKvJuRP-",
        "colab_type": "code",
        "colab": {}
      },
      "source": [
        "import torch, torchvision\n",
        "from torch import nn\n",
        "import torch.nn.functional as F\n",
        "from torch import optim"
      ],
      "execution_count": 0,
      "outputs": []
    },
    {
      "cell_type": "code",
      "metadata": {
        "id": "crTvxsRMukXV",
        "colab_type": "code",
        "colab": {}
      },
      "source": [
        "trainloader = torch.utils.data.DataLoader(dummied_train, batch_size=64, shuffle=True)\n",
        "testloader = torch.utils.data.DataLoader(dummied_test, batch_size=64, shuffle=True)"
      ],
      "execution_count": 0,
      "outputs": []
    },
    {
      "cell_type": "code",
      "metadata": {
        "id": "zTCnd6XFvaE9",
        "colab_type": "code",
        "colab": {}
      },
      "source": [
        "class Network(nn.Module):\n",
        "    \n",
        "    def __init__(self, input_size, output_size, hidden_layers, drop_p=0.05):\n",
        "        ''' Builds a feedforward network with arbitrary hidden layers.\n",
        "        \n",
        "            Arguments\n",
        "            ---------\n",
        "            input_size: integer, size of input\n",
        "            output_size: integer, size of output layer\n",
        "            hidden_layers: list of integers, the sizes of the hidden layers\n",
        "            drop_p: float between 0 and 1, dropout probability\n",
        "        '''\n",
        "        \n",
        "        super().__init__()\n",
        "        # Add the first layer, input to a hidden layer\n",
        "        self.hidden_layers = nn.ModuleList([nn.Linear(input_size, hidden_layers[0])])\n",
        "        \n",
        "        # Add a variable number of more hidden layers\n",
        "        layer_sizes = zip(hidden_layers[:-1], hidden_layers[1:])\n",
        "        self.hidden_layers.extend([nn.Linear(h1, h2) for h1, h2 in layer_sizes])\n",
        "        \n",
        "        self.output = nn.Linear(hidden_layers[-1], output_size)\n",
        "        \n",
        "        self.dropout = nn.Dropout(p=drop_p)\n",
        "    \n",
        "    \n",
        "    def forward(self, x):\n",
        "        ''' Forward pass through the network, returns the output logits'''\n",
        "        \n",
        "        # Forwardc through each layer in `hidden_layers`, with ReLU activation and dropout\n",
        "        for linear in self.hidden_layers:\n",
        "            x = F.relu(linear(x))\n",
        "            x.dropout = self.dropout(x)\n",
        "        \n",
        "        x = self.output(x)\n",
        "        \n",
        "        return F.log_softmax(x, dim=1)"
      ],
      "execution_count": 0,
      "outputs": []
    },
    {
      "cell_type": "code",
      "metadata": {
        "id": "SaUGqm8FwAhx",
        "colab_type": "code",
        "colab": {}
      },
      "source": [
        "dummied_train.shape"
      ],
      "execution_count": 0,
      "outputs": []
    },
    {
      "cell_type": "code",
      "metadata": {
        "id": "n2JHV0djvyRC",
        "colab_type": "code",
        "colab": {}
      },
      "source": [
        "# create tghe network, define the criterion and optimizer\n",
        "model = Network(input_size=558, output_size=1, hidden_layers=[229, 18])\n",
        "criterion = nn.NLLLoss()\n",
        "optimizer = optim.Adam(model.parameters(), lr=0.001)"
      ],
      "execution_count": 0,
      "outputs": []
    },
    {
      "cell_type": "code",
      "metadata": {
        "id": "tYWUszsHwXzu",
        "colab_type": "code",
        "colab": {}
      },
      "source": [
        "# The validation function\n",
        "def validation(model, loader, criterion):\n",
        "    test_loss = 0\n",
        "    accuracy = 0\n",
        "    for images, labels in loader:\n",
        "        images.resize_(images.shape[0], 784)\n",
        "        output = model.forward(images)\n",
        "        test_loss += criterion(output, labels).item()\n",
        "        ps = torch.exp(output)\n",
        "        equality = (labels.data == ps.max(dim=1)[1])\n",
        "        accuracy += equality.type(torch.FloatTensor).mean()\n",
        "        \n",
        "    return test_loss, accuracy"
      ],
      "execution_count": 0,
      "outputs": []
    },
    {
      "cell_type": "code",
      "metadata": {
        "id": "xtMPrB3OwXhU",
        "colab_type": "code",
        "colab": {}
      },
      "source": [
        ""
      ],
      "execution_count": 0,
      "outputs": []
    },
    {
      "cell_type": "code",
      "metadata": {
        "id": "wy3xERS9wXdU",
        "colab_type": "code",
        "colab": {}
      },
      "source": [
        ""
      ],
      "execution_count": 0,
      "outputs": []
    },
    {
      "cell_type": "code",
      "metadata": {
        "id": "b_Q6eIRjwXat",
        "colab_type": "code",
        "colab": {}
      },
      "source": [
        ""
      ],
      "execution_count": 0,
      "outputs": []
    },
    {
      "cell_type": "code",
      "metadata": {
        "id": "i3B4FQNEwXK6",
        "colab_type": "code",
        "colab": {}
      },
      "source": [
        ""
      ],
      "execution_count": 0,
      "outputs": []
    },
    {
      "cell_type": "markdown",
      "metadata": {
        "id": "aEO5R1uLigfu",
        "colab_type": "text"
      },
      "source": [
        "Machine Learning Explainability - Permutation Importance and Partial Plots\n",
        "One of the most basic questions we might ask of a model is: What features have the biggest impact on predictions?\n",
        "\n",
        "This concept is called feature importance. There are multiple ways to measure feature importance. Some approaches answer subtly different versions of the question above. Other approaches have documented shortcomings.\n",
        "\n",
        "\n",
        "permutation importance is:\n",
        "\n",
        " * fast to calculate,\n",
        " * widely used and understood, and\n",
        " * consistent with properties we would want a feature importance measure to have.\n"
      ]
    },
    {
      "cell_type": "markdown",
      "metadata": {
        "id": "6HTqP409igfw",
        "colab_type": "text"
      },
      "source": [
        "# How It Works\n",
        "### Permutation importance uses models differently than anything you've seen so far, and many people find it confusing at first. So we'll start with an example to make it more concrete.\n",
        "\n",
        "\n",
        "Consider data with the following format:\n",
        "\n",
        "\n",
        "![image.png](attachment:image.png)\n",
        "We want to predict a person's height when they become 20 years old, using data that is available at age 10.\n",
        "\n",
        "Our data includes useful features (height at age 10), features with little predictive power (socks owned), as well as some other features we won't focus on in this explanation.\n",
        "\n",
        "Permutation importance is calculated after a model has been fitted. So we won't change the model or change what predictions we'd get for a given value of height, sock-count, etc.\n",
        "\n",
        "Instead we will ask the following question: If I randomly shuffle a single column of the validation data, leaving the target and all other columns in place, how would that affect the accuracy of predictions in that now-shuffled data?\n"
      ]
    },
    {
      "cell_type": "code",
      "metadata": {
        "id": "11ZkgxyGigfw",
        "colab_type": "code",
        "colab": {}
      },
      "source": [
        "\n",
        "# %%html\n",
        "\n",
        "# <img src=\"https://i.imgur.com/h17tMUU.png\", width=900,height=500>"
      ],
      "execution_count": 0,
      "outputs": []
    },
    {
      "cell_type": "markdown",
      "metadata": {
        "id": "tefiQI3Aigf1",
        "colab_type": "text"
      },
      "source": [
        "Randomly re-ordering a single column should cause less accurate predictions, since the resulting data no longer corresponds to anything observed in the real world. Model accuracy especially suffers if we shuffle a column that the model relied on heavily for predictions. In this case, shuffling height at age 10 would cause terrible predictions. If we shuffled socks owned instead, the resulting predictions wouldn't suffer nearly as much.\n",
        "\n",
        "With this insight, the process is as follows:\n",
        "\n",
        "* Get a trained model.\n",
        "* Shuffle the values in a single column, make predictions using the resulting dataset. Use these predictions and the true target values to calculate how much the loss function suffered from shuffling. That performance deterioration measures the importance of the variable you just shuffled.\n",
        "* Return the data to the original order (undoing the shuffle from step 2). Now repeat step 2 with the next column in the dataset, until you have calculated the importance of each column.\n",
        "\n",
        "Code Example\n",
        "Our example will use a model that predicts whether a soccer/football team will have the \"Man of the Game\" winner based on the team's statistics. The \"Man of the Game\" award is given to the best player in the game. Model-building isn't our current focus, so the cell below loads the data and builds a rudimentary model. \n",
        "\n",
        "Since I've built the demo model, lets get straight to the point.\n",
        "\n",
        "oh you have to install eli5. ELI5 is a Python package which helps to debug machine learning classifiers and explain their predictions.\n",
        "\n",
        "run \"!pip install eli5\""
      ]
    },
    {
      "cell_type": "code",
      "metadata": {
        "id": "nEhRkSbcigf4",
        "colab_type": "code",
        "colab": {}
      },
      "source": [
        "\n",
        "\n",
        "from sklearn.impute import SimpleImputer\n",
        "\n",
        "# Imputation\n",
        "my_imputer = SimpleImputer()\n",
        "imputed_X_train = pd.DataFrame(my_imputer.fit_transform(df[x_cols]))\n",
        "\n",
        "# Imputation removed column names; put them back\n",
        "imputed_X_train.columns = df[x_cols].columns\n"
      ],
      "execution_count": 0,
      "outputs": []
    },
    {
      "cell_type": "code",
      "metadata": {
        "id": "8xgc8OgZigf7",
        "colab_type": "code",
        "colab": {}
      },
      "source": [
        "import eli5\n",
        "from eli5.sklearn import PermutationImportance\n",
        "\n",
        "\n",
        "perm = PermutationImportance(model, random_state=1).fit(imputed_X_train, train['y'])\n",
        "eli5.show_weights(perm, feature_names = imputed_X_train.columns.tolist())"
      ],
      "execution_count": 0,
      "outputs": []
    },
    {
      "cell_type": "code",
      "metadata": {
        "id": "fHIlN461igf_",
        "colab_type": "code",
        "colab": {}
      },
      "source": [
        "# figure out how to deal with this one.\n",
        "# The features that are most important are at the top, another hint. Check out different models and do some feature engineering.\n",
        "\n",
        "# http://queirozf.com/entries/one-hot-encoding-a-feature-on-a-pandas-dataframe-an-example"
      ],
      "execution_count": 0,
      "outputs": []
    },
    {
      "cell_type": "markdown",
      "metadata": {
        "id": "HjWJt4sbiggI",
        "colab_type": "text"
      },
      "source": [
        "# Interpreting Permutation Importances\n",
        "The values towards the top are the most important features, and those towards the bottom matter least.\n",
        "\n",
        "The first number in each row shows how much model performance decreased with a random shuffling (in this case, using \"accuracy\" as the performance metric).\n",
        "\n",
        "Like most things in data science, there is some randomness to the exact performance change from a shuffling a column. We measure the amount of randomness in our permutation importance calculation by repeating the process with multiple shuffles. The number after the ± measures how performance varied from one-reshuffling to the next.\n",
        "\n",
        "You'll occasionally see negative values for permutation importances. In those cases, the predictions on the shuffled (or noisy) data happened to be more accurate than the real data. This happens when the feature didn't matter (should have had an importance close to 0), but random chance caused the predictions on shuffled data to be more accurate. This is more common with small datasets, like the one in this example, because there is more room for luck/chance."
      ]
    },
    {
      "cell_type": "code",
      "metadata": {
        "id": "Y2Zd-JzdiggJ",
        "colab_type": "code",
        "colab": {}
      },
      "source": [
        "train[x_cols].head()"
      ],
      "execution_count": 0,
      "outputs": []
    },
    {
      "cell_type": "code",
      "metadata": {
        "id": "qShRNuvHiggM",
        "colab_type": "code",
        "colab": {}
      },
      "source": [
        "model.predict_proba(train[x_cols])[:, 1]"
      ],
      "execution_count": 0,
      "outputs": []
    },
    {
      "cell_type": "markdown",
      "metadata": {
        "colab_type": "text",
        "id": "3yFdRbBg8CW1"
      },
      "source": [
        "# Scoring the model\n",
        "\n",
        "We'll start by looking at log-loss, then switch to trying to get a reasonable F1 score."
      ]
    },
    {
      "cell_type": "code",
      "metadata": {
        "colab_type": "code",
        "id": "aQ6yr7yHygrG",
        "colab": {}
      },
      "source": [
        "# Score the model on the train set\n",
        "from sklearn.metrics import log_loss\n",
        "log_loss(train['y'], model.predict_proba(train[x_cols])[:, 1])"
      ],
      "execution_count": 0,
      "outputs": []
    },
    {
      "cell_type": "code",
      "metadata": {
        "colab_type": "code",
        "id": "7WFGqUNAygrL",
        "colab": {}
      },
      "source": [
        "# Is this better than just 0s?\n",
        "log_loss(train['y'], [0 for y in train['y']]) #yes!"
      ],
      "execution_count": 0,
      "outputs": []
    },
    {
      "cell_type": "code",
      "metadata": {
        "colab_type": "code",
        "id": "vOOYOR9mygrP",
        "colab": {}
      },
      "source": [
        "# Pre-process the test to match train\n",
        "test['datetime'] = pd.to_datetime(test['datetime'])\n",
        "test['day'] = test['datetime'].dt.weekday_name\n",
        "test['min'] = test['datetime'].dt.hour*60+test['datetime'].dt.minute\n",
        "test = pd.merge(test, locations, left_on='segment_id', right_on='road_segment_id')"
      ],
      "execution_count": 0,
      "outputs": []
    },
    {
      "cell_type": "code",
      "metadata": {
        "colab_type": "code",
        "id": "ocaXVT4LygrT",
        "colab": {}
      },
      "source": [
        "# The important score\n",
        "log_loss(test['y'], model.predict_proba(test[x_cols])[:, 1])"
      ],
      "execution_count": 0,
      "outputs": []
    },
    {
      "cell_type": "markdown",
      "metadata": {
        "colab_type": "text",
        "id": "tncTHFDAygrW"
      },
      "source": [
        "### Now the hard part. The competition  wants binary predictions for the F1 score, but all our probabilities are low. Still, our F1 score will be 0 if we predict all 0s, so we need to pick a threshold that gives some 1s. Let's try a few things"
      ]
    },
    {
      "cell_type": "code",
      "metadata": {
        "colab_type": "code",
        "id": "UWaKnDZv5rLh",
        "colab": {}
      },
      "source": [
        "# First, just using .predict\n",
        "from sklearn.metrics import f1_score\n",
        "f1_score(test['y'], model.predict(test[x_cols]))"
      ],
      "execution_count": 0,
      "outputs": []
    },
    {
      "cell_type": "code",
      "metadata": {
        "colab_type": "code",
        "id": "9U9yP8Nw7TE1",
        "colab": {}
      },
      "source": [
        "# Let's predict 1 even if the prob is just > 0.005\n",
        "test['pred'] = model.predict_proba(test[x_cols])[:,1]\n",
        "test['gt005'] = (test['pred']>0.005).astype(int)\n",
        "test.head()"
      ],
      "execution_count": 0,
      "outputs": []
    },
    {
      "cell_type": "code",
      "metadata": {
        "colab_type": "code",
        "id": "P0P-m9AW7Ck2",
        "colab": {}
      },
      "source": [
        "f1_score(test['y'], test['gt005'])"
      ],
      "execution_count": 0,
      "outputs": []
    },
    {
      "cell_type": "code",
      "metadata": {
        "colab_type": "code",
        "id": "LEDaJvN_53lp",
        "colab": {}
      },
      "source": [
        "# WHat about an even lower threshold?\n",
        "test['gt0005'] = (test['pred']>0.0005).astype(int)\n",
        "f1_score(test['y'], test['gt0005'])"
      ],
      "execution_count": 0,
      "outputs": []
    },
    {
      "cell_type": "code",
      "metadata": {
        "colab_type": "code",
        "id": "klmzzvEk8q-t",
        "colab": {}
      },
      "source": [
        "# Hmm. And a higher 1?\n",
        "test['gt05'] = (test['pred']>0.05).astype(int)\n",
        "f1_score(test['y'], test['gt05'])"
      ],
      "execution_count": 0,
      "outputs": []
    },
    {
      "cell_type": "markdown",
      "metadata": {
        "colab_type": "text",
        "id": "f9cJ87hB84ld"
      },
      "source": [
        "There are better ways to do this than picking randomly. Hint: look at how often events occur on average, or just do a search for the best."
      ]
    },
    {
      "cell_type": "markdown",
      "metadata": {
        "colab_type": "text",
        "id": "ao8j9L2bygrb"
      },
      "source": [
        "# Making a submission"
      ]
    },
    {
      "cell_type": "markdown",
      "metadata": {
        "colab_type": "text",
        "id": "lyvkChFMygrf"
      },
      "source": [
        "This is where you generate something that can be uploaded to Zindi to get a score. These are big files, so don't do this often - work with local tests until you really have an improvement before you tax their poor server."
      ]
    },
    {
      "cell_type": "code",
      "metadata": {
        "colab_type": "code",
        "id": "FVmUwv6Qygrg",
        "colab": {}
      },
      "source": [
        "# Make the dataframe - dates based on sample submission file\n",
        "dts = pd.date_range('2019-01-01 01:00:00',\n",
        "                    '2019-03-31 23:00:00',\n",
        "                    freq=\"1h\")\n",
        "tr = pd.DataFrame({'datetime':dts})\n",
        "\n",
        "for sid in sids:\n",
        "    tr[str(sid)] = 0\n",
        "    \n",
        "ss = pd.DataFrame({\n",
        "    'datetime x segment_id':np.concatenate([[str(x) + \" x \" + str(c)  \n",
        "                                            for x in tr['datetime']for c in sids]]),\n",
        "    'datetime':np.concatenate([[str(x) for x in tr['datetime']for c in sids]]),\n",
        "    'segment_id':np.concatenate([[str(c) for x in tr['datetime']for c in sids]])\n",
        "})\n",
        "ss.head()"
      ],
      "execution_count": 0,
      "outputs": []
    },
    {
      "cell_type": "code",
      "metadata": {
        "colab_type": "code",
        "id": "0B1tb64Sygrl",
        "colab": {}
      },
      "source": [
        "# Add the extra features\n",
        "ss['datetime'] = pd.to_datetime(ss['datetime'])\n",
        "ss['day'] = ss['datetime'].dt.weekday_name\n",
        "ss['min'] = ss['datetime'].dt.hour*60+ss['datetime'].dt.minute\n",
        "ss = pd.merge(ss, locations, left_on='segment_id', right_on='road_segment_id', how='left')\n",
        "ss['prediction'] = 0\n",
        "ss.head()"
      ],
      "execution_count": 0,
      "outputs": []
    },
    {
      "cell_type": "code",
      "metadata": {
        "colab_type": "code",
        "id": "vgnRCFmuygrq",
        "colab": {}
      },
      "source": [
        "# Make predictions\n",
        "ss['prediction'] = model.predict_proba(ss[x_cols])[:, 1] \n",
        "ss.head()"
      ],
      "execution_count": 0,
      "outputs": []
    },
    {
      "cell_type": "code",
      "metadata": {
        "colab_type": "code",
        "id": "GpNbzA2S9Fsy",
        "colab": {}
      },
      "source": [
        "# Changing to binary with our threshold:\n",
        "ss['prediction'] = (ss['prediction']>0.05).astype(int)"
      ],
      "execution_count": 0,
      "outputs": []
    },
    {
      "cell_type": "code",
      "metadata": {
        "colab_type": "code",
        "id": "8GRzDYTC9VPt",
        "colab": {}
      },
      "source": [
        "ss.head()"
      ],
      "execution_count": 0,
      "outputs": []
    },
    {
      "cell_type": "code",
      "metadata": {
        "colab_type": "code",
        "id": "yH-KPqcuG4ni",
        "colab": {}
      },
      "source": [
        "ss.shape"
      ],
      "execution_count": 0,
      "outputs": []
    },
    {
      "cell_type": "code",
      "metadata": {
        "colab_type": "code",
        "id": "qJmV3grEygru",
        "colab": {}
      },
      "source": [
        "# Save to CSV and submit\n",
        "ss[['datetime x segment_id', 'prediction']].to_csv('starter_notebook.csv', index=False)"
      ],
      "execution_count": 0,
      "outputs": []
    },
    {
      "cell_type": "code",
      "metadata": {
        "id": "-Im6eooaighe",
        "colab_type": "code",
        "colab": {}
      },
      "source": [
        ""
      ],
      "execution_count": 0,
      "outputs": []
    },
    {
      "cell_type": "markdown",
      "metadata": {
        "colab_type": "text",
        "id": "Mtc1kKh09chr"
      },
      "source": [
        "### And that's it. Tweak things here and test locally - don't waste time constantly submitting and waiting on Zindi's score. Some suggested Improvements:\n",
        "\n",
        "\n",
        "\n",
        "*   Add more features. The roads shapefile has some juicy details on number of lanes, road conditions...\n",
        "*   Use Uber Movement. You can get travel times to neighbouring areas for the locations of each segment. Might be useful!\n",
        "*   Tweak the model. Look at ways to deal with imbalanced data.\n",
        "*   Train on all the available data (not just 2017 as in this example)\n",
        "\n",
        "Good luck :)\n",
        "\n",
        "\n",
        "\n"
      ]
    },
    {
      "cell_type": "code",
      "metadata": {
        "id": "yxbf3Pubighj",
        "colab_type": "code",
        "colab": {}
      },
      "source": [
        "train.head()"
      ],
      "execution_count": 0,
      "outputs": []
    },
    {
      "cell_type": "code",
      "metadata": {
        "id": "XRro5WNzighm",
        "colab_type": "code",
        "colab": {}
      },
      "source": [
        "test.head()"
      ],
      "execution_count": 0,
      "outputs": []
    },
    {
      "cell_type": "code",
      "metadata": {
        "id": "DxvbkOJeighp",
        "colab_type": "code",
        "colab": {}
      },
      "source": [
        "train.head(30)"
      ],
      "execution_count": 0,
      "outputs": []
    },
    {
      "cell_type": "code",
      "metadata": {
        "id": "RKJGL6Suighr",
        "colab_type": "code",
        "colab": {}
      },
      "source": [
        ""
      ],
      "execution_count": 0,
      "outputs": []
    }
  ]
}